{
 "cells": [
  {
   "cell_type": "markdown",
   "metadata": {},
   "source": [
    "# TF-IDF"
   ]
  },
  {
   "cell_type": "code",
   "execution_count": 65,
   "metadata": {},
   "outputs": [],
   "source": [
    "from sklearn.feature_extraction.text import TfidfTransformer \n",
    "from sklearn.feature_extraction.text import TfidfVectorizer\n",
    "from sklearn.feature_extraction.text import CountVectorizer\n",
    "import pandas as pd\n",
    "import math\n",
    "from sklearn.preprocessing import normalize"
   ]
  },
  {
   "cell_type": "code",
   "execution_count": 66,
   "metadata": {},
   "outputs": [
    {
     "name": "stderr",
     "output_type": "stream",
     "text": [
      "Building prefix dict from C:\\Users\\user\\Downloads\\OneDrive - 長庚大學\\桌面\\HW3\\dict.txt-v2.big ...\n",
      "Loading model from cache C:\\Users\\user\\AppData\\Local\\Temp\\jieba.uf23e018db859858015352f977000d85a.cache\n",
      "Loading model cost 1.148 seconds.\n",
      "Prefix dict has been built successfully.\n"
     ]
    }
   ],
   "source": [
    "import csv\n",
    "name = []\n",
    "briefIntro = []\n",
    "jieba.set_dictionary('dict.txt-v2.big')\n",
    "with open('./movies.csv',encoding='utf-8') as csvfile:\n",
    "    rows = list(csv.reader(csvfile)) #rows[0]為第0筆資料\n",
    "    for row in rows[1:] : #第一列後的資料\n",
    "        name.append(row[1])\n",
    "        text = row[4]\n",
    "        jiebaText = ' '.join(jieba.cut(text, cut_all=False, HMM=True))\n",
    "        briefIntro.append(jiebaText)"
   ]
  },
  {
   "cell_type": "code",
   "execution_count": 67,
   "metadata": {},
   "outputs": [],
   "source": [
    "#briefIntro"
   ]
  },
  {
   "cell_type": "code",
   "execution_count": 68,
   "metadata": {},
   "outputs": [
    {
     "name": "stdout",
     "output_type": "stream",
     "text": [
      "135003\n"
     ]
    }
   ],
   "source": [
    "from sklearn.feature_extraction.text import CountVectorizer\n",
    "# step 1\n",
    "vectoerizer = CountVectorizer(min_df=1, max_df=1.0, token_pattern='\\\\b\\\\w+\\\\b')\n",
    "# step 2\n",
    "vectoerizer.fit(briefIntro)\n",
    "# step 3\n",
    "bag_of_words = vectoerizer.get_feature_names()\n",
    "\n",
    "#print(\"Bag of words:\")\n",
    "#print(bag_of_words)\n",
    "print(len(bag_of_words))"
   ]
  },
  {
   "cell_type": "code",
   "execution_count": 69,
   "metadata": {},
   "outputs": [
    {
     "data": {
      "text/plain": [
       "'\\nnew_list = []\\ndef remove_stop_words(file_name,string1):\\n    with open(file_name,\\'r\\',encoding=\"utf-8\") as f:\\n        stop_words = f.readlines()\\n    stop_words = [stop_word.rstrip() for stop_word in stop_words]\\n  \\n    for seg in string1:\\n        if seg not in stop_words:\\n            if seg == \\'\\n\\':\\n                continue\\n            elif seg == \\'\\t\\':\\n                continue\\n            elif seg == \\' \\':\\n                continue \\n            elif seg == \\'。\\':\\n                continue  \\n            elif seg == \\'...\\':\\n                continue                  \\n            else:\\n                new_list.append(seg) #若在for loop裡用remove的話則會改變總長度\\n    return new_list\\n\\nfile_name = \\'./stopwords.txt\\'\\nstring1 = remove_stop_words(file_name,string1)\\n'"
      ]
     },
     "execution_count": 69,
     "metadata": {},
     "output_type": "execute_result"
    }
   ],
   "source": [
    "\"\"\"\n",
    "new_list = []\n",
    "def remove_stop_words(file_name,string1):\n",
    "    with open(file_name,'r',encoding=\"utf-8\") as f:\n",
    "        stop_words = f.readlines()\n",
    "    stop_words = [stop_word.rstrip() for stop_word in stop_words]\n",
    "  \n",
    "    for seg in string1:\n",
    "        if seg not in stop_words:\n",
    "            if seg == '\\n':\n",
    "                continue\n",
    "            elif seg == '\\t':\n",
    "                continue\n",
    "            elif seg == ' ':\n",
    "                continue \n",
    "            elif seg == '。':\n",
    "                continue  \n",
    "            elif seg == '...':\n",
    "                continue                  \n",
    "            else:\n",
    "                new_list.append(seg) #若在for loop裡用remove的話則會改變總長度\n",
    "    return new_list\n",
    "\n",
    "file_name = './stopwords.txt'\n",
    "string1 = remove_stop_words(file_name,string1)\n",
    "\"\"\""
   ]
  },
  {
   "cell_type": "code",
   "execution_count": 70,
   "metadata": {},
   "outputs": [],
   "source": [
    "arr = []\n",
    "arr.append(bag_of_words)\n",
    "df = pd.DataFrame(arr)\n",
    "df.to_csv('bag_of_words.csv', encoding='utf_8_sig')\n",
    "\n",
    "# step 4\n",
    "X = vectoerizer.transform(briefIntro)\n",
    "#print(\"Vectorized corpus:\")\n",
    "#print(X.toarray())"
   ]
  },
  {
   "cell_type": "code",
   "execution_count": 71,
   "metadata": {},
   "outputs": [],
   "source": [
    "from sklearn.feature_extraction.text import TfidfTransformer\n",
    "# step 1\n",
    "tfidf_transformer = TfidfTransformer()\n",
    "# step 2\n",
    "tfidf_transformer.fit(X.toarray())\n",
    "# step 4\n",
    "tfidf = tfidf_transformer.transform(X)\n",
    "arr = tfidf.toarray()\n",
    "#arr"
   ]
  },
  {
   "cell_type": "code",
   "execution_count": 72,
   "metadata": {},
   "outputs": [],
   "source": [
    "import pandas as pd\n",
    "\n",
    "df = pd.DataFrame(arr)\n",
    "df.to_csv('arr.csv', encoding='utf_8_sig')\n",
    "\n",
    "#df"
   ]
  },
  {
   "cell_type": "code",
   "execution_count": null,
   "metadata": {},
   "outputs": [],
   "source": []
  }
 ],
 "metadata": {
  "kernelspec": {
   "display_name": "Python 3",
   "language": "python",
   "name": "python3"
  },
  "language_info": {
   "codemirror_mode": {
    "name": "ipython",
    "version": 3
   },
   "file_extension": ".py",
   "mimetype": "text/x-python",
   "name": "python",
   "nbconvert_exporter": "python",
   "pygments_lexer": "ipython3",
   "version": "3.8.5"
  }
 },
 "nbformat": 4,
 "nbformat_minor": 4
}
